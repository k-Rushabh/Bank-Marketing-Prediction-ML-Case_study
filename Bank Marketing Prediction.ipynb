{
 "cells": [
  {
   "cell_type": "markdown",
   "id": "2ea89e3a",
   "metadata": {},
   "source": [
    "# Bank Marketing Prediction"
   ]
  },
  {
   "cell_type": "markdown",
   "id": "dec59984",
   "metadata": {},
   "source": [
    "### Tasks to perform\n",
    "Read in the file and get basic information about the data, including numerical summaries."
   ]
  },
  {
   "cell_type": "code",
   "execution_count": 3,
   "id": "efe88735",
   "metadata": {},
   "outputs": [],
   "source": [
    "import numpy as np\n",
    "import pandas as pd\n",
    "import matplotlib.pyplot as plt \n",
    "import seaborn as sns\n",
    "import warnings\n",
    "warnings.filterwarnings('ignore')\n",
    "%matplotlib inline"
   ]
  },
  {
   "cell_type": "code",
   "execution_count": 4,
   "id": "082a4379",
   "metadata": {
    "scrolled": false
   },
   "outputs": [
    {
     "name": "stdout",
     "output_type": "stream",
     "text": [
      "Rows 45211 and Columns 19\n"
     ]
    },
    {
     "data": {
      "text/html": [
       "<div>\n",
       "<style scoped>\n",
       "    .dataframe tbody tr th:only-of-type {\n",
       "        vertical-align: middle;\n",
       "    }\n",
       "\n",
       "    .dataframe tbody tr th {\n",
       "        vertical-align: top;\n",
       "    }\n",
       "\n",
       "    .dataframe thead th {\n",
       "        text-align: right;\n",
       "    }\n",
       "</style>\n",
       "<table border=\"1\" class=\"dataframe\">\n",
       "  <thead>\n",
       "    <tr style=\"text-align: right;\">\n",
       "      <th></th>\n",
       "      <th>age</th>\n",
       "      <th>job</th>\n",
       "      <th>salary</th>\n",
       "      <th>marital</th>\n",
       "      <th>education</th>\n",
       "      <th>targeted</th>\n",
       "      <th>default</th>\n",
       "      <th>balance</th>\n",
       "      <th>housing</th>\n",
       "      <th>loan</th>\n",
       "      <th>contact</th>\n",
       "      <th>day</th>\n",
       "      <th>month</th>\n",
       "      <th>duration</th>\n",
       "      <th>campaign</th>\n",
       "      <th>pdays</th>\n",
       "      <th>previous</th>\n",
       "      <th>poutcome</th>\n",
       "      <th>response</th>\n",
       "    </tr>\n",
       "  </thead>\n",
       "  <tbody>\n",
       "    <tr>\n",
       "      <th>0</th>\n",
       "      <td>58</td>\n",
       "      <td>management</td>\n",
       "      <td>100000</td>\n",
       "      <td>married</td>\n",
       "      <td>tertiary</td>\n",
       "      <td>yes</td>\n",
       "      <td>no</td>\n",
       "      <td>2143</td>\n",
       "      <td>yes</td>\n",
       "      <td>no</td>\n",
       "      <td>unknown</td>\n",
       "      <td>5</td>\n",
       "      <td>may</td>\n",
       "      <td>261</td>\n",
       "      <td>1</td>\n",
       "      <td>-1</td>\n",
       "      <td>0</td>\n",
       "      <td>unknown</td>\n",
       "      <td>no</td>\n",
       "    </tr>\n",
       "    <tr>\n",
       "      <th>1</th>\n",
       "      <td>44</td>\n",
       "      <td>technician</td>\n",
       "      <td>60000</td>\n",
       "      <td>single</td>\n",
       "      <td>secondary</td>\n",
       "      <td>yes</td>\n",
       "      <td>no</td>\n",
       "      <td>29</td>\n",
       "      <td>yes</td>\n",
       "      <td>no</td>\n",
       "      <td>unknown</td>\n",
       "      <td>5</td>\n",
       "      <td>may</td>\n",
       "      <td>151</td>\n",
       "      <td>1</td>\n",
       "      <td>-1</td>\n",
       "      <td>0</td>\n",
       "      <td>unknown</td>\n",
       "      <td>no</td>\n",
       "    </tr>\n",
       "    <tr>\n",
       "      <th>2</th>\n",
       "      <td>33</td>\n",
       "      <td>entrepreneur</td>\n",
       "      <td>120000</td>\n",
       "      <td>married</td>\n",
       "      <td>secondary</td>\n",
       "      <td>yes</td>\n",
       "      <td>no</td>\n",
       "      <td>2</td>\n",
       "      <td>yes</td>\n",
       "      <td>yes</td>\n",
       "      <td>unknown</td>\n",
       "      <td>5</td>\n",
       "      <td>may</td>\n",
       "      <td>76</td>\n",
       "      <td>1</td>\n",
       "      <td>-1</td>\n",
       "      <td>0</td>\n",
       "      <td>unknown</td>\n",
       "      <td>no</td>\n",
       "    </tr>\n",
       "    <tr>\n",
       "      <th>3</th>\n",
       "      <td>47</td>\n",
       "      <td>blue-collar</td>\n",
       "      <td>20000</td>\n",
       "      <td>married</td>\n",
       "      <td>unknown</td>\n",
       "      <td>no</td>\n",
       "      <td>no</td>\n",
       "      <td>1506</td>\n",
       "      <td>yes</td>\n",
       "      <td>no</td>\n",
       "      <td>unknown</td>\n",
       "      <td>5</td>\n",
       "      <td>may</td>\n",
       "      <td>92</td>\n",
       "      <td>1</td>\n",
       "      <td>-1</td>\n",
       "      <td>0</td>\n",
       "      <td>unknown</td>\n",
       "      <td>no</td>\n",
       "    </tr>\n",
       "    <tr>\n",
       "      <th>4</th>\n",
       "      <td>33</td>\n",
       "      <td>unknown</td>\n",
       "      <td>0</td>\n",
       "      <td>single</td>\n",
       "      <td>unknown</td>\n",
       "      <td>no</td>\n",
       "      <td>no</td>\n",
       "      <td>1</td>\n",
       "      <td>no</td>\n",
       "      <td>no</td>\n",
       "      <td>unknown</td>\n",
       "      <td>5</td>\n",
       "      <td>may</td>\n",
       "      <td>198</td>\n",
       "      <td>1</td>\n",
       "      <td>-1</td>\n",
       "      <td>0</td>\n",
       "      <td>unknown</td>\n",
       "      <td>no</td>\n",
       "    </tr>\n",
       "  </tbody>\n",
       "</table>\n",
       "</div>"
      ],
      "text/plain": [
       "   age           job  salary  marital  education targeted default  balance  \\\n",
       "0   58    management  100000  married   tertiary      yes      no     2143   \n",
       "1   44    technician   60000   single  secondary      yes      no       29   \n",
       "2   33  entrepreneur  120000  married  secondary      yes      no        2   \n",
       "3   47   blue-collar   20000  married    unknown       no      no     1506   \n",
       "4   33       unknown       0   single    unknown       no      no        1   \n",
       "\n",
       "  housing loan  contact  day month  duration  campaign  pdays  previous  \\\n",
       "0     yes   no  unknown    5   may       261         1     -1         0   \n",
       "1     yes   no  unknown    5   may       151         1     -1         0   \n",
       "2     yes  yes  unknown    5   may        76         1     -1         0   \n",
       "3     yes   no  unknown    5   may        92         1     -1         0   \n",
       "4      no   no  unknown    5   may       198         1     -1         0   \n",
       "\n",
       "  poutcome response  \n",
       "0  unknown       no  \n",
       "1  unknown       no  \n",
       "2  unknown       no  \n",
       "3  unknown       no  \n",
       "4  unknown       no  "
      ]
     },
     "execution_count": 4,
     "metadata": {},
     "output_type": "execute_result"
    }
   ],
   "source": [
    "df = pd.read_csv(\"C:\\\\Users\\\\RUSHABH\\\\OneDrive\\\\Desktop\\\\Rushabh K\\\\bank-marketing.csv\")\n",
    "print(\"Rows {} and Columns {}\".format(df.shape[0],df.shape[1]))\n",
    "df.head()"
   ]
  },
  {
   "cell_type": "code",
   "execution_count": 3,
   "id": "5245276f",
   "metadata": {},
   "outputs": [
    {
     "name": "stdout",
     "output_type": "stream",
     "text": [
      "<class 'pandas.core.frame.DataFrame'>\n",
      "RangeIndex: 45211 entries, 0 to 45210\n",
      "Data columns (total 19 columns):\n",
      " #   Column     Non-Null Count  Dtype \n",
      "---  ------     --------------  ----- \n",
      " 0   age        45211 non-null  int64 \n",
      " 1   job        45211 non-null  object\n",
      " 2   salary     45211 non-null  int64 \n",
      " 3   marital    45211 non-null  object\n",
      " 4   education  45211 non-null  object\n",
      " 5   targeted   45211 non-null  object\n",
      " 6   default    45211 non-null  object\n",
      " 7   balance    45211 non-null  int64 \n",
      " 8   housing    45211 non-null  object\n",
      " 9   loan       45211 non-null  object\n",
      " 10  contact    45211 non-null  object\n",
      " 11  day        45211 non-null  int64 \n",
      " 12  month      45211 non-null  object\n",
      " 13  duration   45211 non-null  int64 \n",
      " 14  campaign   45211 non-null  int64 \n",
      " 15  pdays      45211 non-null  int64 \n",
      " 16  previous   45211 non-null  int64 \n",
      " 17  poutcome   45211 non-null  object\n",
      " 18  response   45211 non-null  object\n",
      "dtypes: int64(8), object(11)\n",
      "memory usage: 6.6+ MB\n"
     ]
    }
   ],
   "source": [
    "df.info()"
   ]
  },
  {
   "cell_type": "markdown",
   "id": "f4bd72a6",
   "metadata": {},
   "source": [
    "* Dataset dose not contains any null or missing values"
   ]
  },
  {
   "cell_type": "code",
   "execution_count": 4,
   "id": "2fe91c4f",
   "metadata": {
    "scrolled": true
   },
   "outputs": [
    {
     "data": {
      "text/html": [
       "<div>\n",
       "<style scoped>\n",
       "    .dataframe tbody tr th:only-of-type {\n",
       "        vertical-align: middle;\n",
       "    }\n",
       "\n",
       "    .dataframe tbody tr th {\n",
       "        vertical-align: top;\n",
       "    }\n",
       "\n",
       "    .dataframe thead th {\n",
       "        text-align: right;\n",
       "    }\n",
       "</style>\n",
       "<table border=\"1\" class=\"dataframe\">\n",
       "  <thead>\n",
       "    <tr style=\"text-align: right;\">\n",
       "      <th></th>\n",
       "      <th>age</th>\n",
       "      <th>salary</th>\n",
       "      <th>balance</th>\n",
       "      <th>day</th>\n",
       "      <th>duration</th>\n",
       "      <th>campaign</th>\n",
       "      <th>pdays</th>\n",
       "      <th>previous</th>\n",
       "    </tr>\n",
       "  </thead>\n",
       "  <tbody>\n",
       "    <tr>\n",
       "      <th>count</th>\n",
       "      <td>45211.000000</td>\n",
       "      <td>45211.000000</td>\n",
       "      <td>45211.000000</td>\n",
       "      <td>45211.000000</td>\n",
       "      <td>45211.000000</td>\n",
       "      <td>45211.000000</td>\n",
       "      <td>45211.000000</td>\n",
       "      <td>45211.000000</td>\n",
       "    </tr>\n",
       "    <tr>\n",
       "      <th>mean</th>\n",
       "      <td>40.936210</td>\n",
       "      <td>57006.171065</td>\n",
       "      <td>1362.272058</td>\n",
       "      <td>15.806419</td>\n",
       "      <td>258.163080</td>\n",
       "      <td>2.763841</td>\n",
       "      <td>40.197828</td>\n",
       "      <td>0.580323</td>\n",
       "    </tr>\n",
       "    <tr>\n",
       "      <th>std</th>\n",
       "      <td>10.618762</td>\n",
       "      <td>32085.718415</td>\n",
       "      <td>3044.765829</td>\n",
       "      <td>8.322476</td>\n",
       "      <td>257.527812</td>\n",
       "      <td>3.098021</td>\n",
       "      <td>100.128746</td>\n",
       "      <td>2.303441</td>\n",
       "    </tr>\n",
       "    <tr>\n",
       "      <th>min</th>\n",
       "      <td>18.000000</td>\n",
       "      <td>0.000000</td>\n",
       "      <td>-8019.000000</td>\n",
       "      <td>1.000000</td>\n",
       "      <td>0.000000</td>\n",
       "      <td>1.000000</td>\n",
       "      <td>-1.000000</td>\n",
       "      <td>0.000000</td>\n",
       "    </tr>\n",
       "    <tr>\n",
       "      <th>25%</th>\n",
       "      <td>33.000000</td>\n",
       "      <td>20000.000000</td>\n",
       "      <td>72.000000</td>\n",
       "      <td>8.000000</td>\n",
       "      <td>103.000000</td>\n",
       "      <td>1.000000</td>\n",
       "      <td>-1.000000</td>\n",
       "      <td>0.000000</td>\n",
       "    </tr>\n",
       "    <tr>\n",
       "      <th>50%</th>\n",
       "      <td>39.000000</td>\n",
       "      <td>60000.000000</td>\n",
       "      <td>448.000000</td>\n",
       "      <td>16.000000</td>\n",
       "      <td>180.000000</td>\n",
       "      <td>2.000000</td>\n",
       "      <td>-1.000000</td>\n",
       "      <td>0.000000</td>\n",
       "    </tr>\n",
       "    <tr>\n",
       "      <th>75%</th>\n",
       "      <td>48.000000</td>\n",
       "      <td>70000.000000</td>\n",
       "      <td>1428.000000</td>\n",
       "      <td>21.000000</td>\n",
       "      <td>319.000000</td>\n",
       "      <td>3.000000</td>\n",
       "      <td>-1.000000</td>\n",
       "      <td>0.000000</td>\n",
       "    </tr>\n",
       "    <tr>\n",
       "      <th>max</th>\n",
       "      <td>95.000000</td>\n",
       "      <td>120000.000000</td>\n",
       "      <td>102127.000000</td>\n",
       "      <td>31.000000</td>\n",
       "      <td>4918.000000</td>\n",
       "      <td>63.000000</td>\n",
       "      <td>871.000000</td>\n",
       "      <td>275.000000</td>\n",
       "    </tr>\n",
       "  </tbody>\n",
       "</table>\n",
       "</div>"
      ],
      "text/plain": [
       "                age         salary        balance           day      duration  \\\n",
       "count  45211.000000   45211.000000   45211.000000  45211.000000  45211.000000   \n",
       "mean      40.936210   57006.171065    1362.272058     15.806419    258.163080   \n",
       "std       10.618762   32085.718415    3044.765829      8.322476    257.527812   \n",
       "min       18.000000       0.000000   -8019.000000      1.000000      0.000000   \n",
       "25%       33.000000   20000.000000      72.000000      8.000000    103.000000   \n",
       "50%       39.000000   60000.000000     448.000000     16.000000    180.000000   \n",
       "75%       48.000000   70000.000000    1428.000000     21.000000    319.000000   \n",
       "max       95.000000  120000.000000  102127.000000     31.000000   4918.000000   \n",
       "\n",
       "           campaign         pdays      previous  \n",
       "count  45211.000000  45211.000000  45211.000000  \n",
       "mean       2.763841     40.197828      0.580323  \n",
       "std        3.098021    100.128746      2.303441  \n",
       "min        1.000000     -1.000000      0.000000  \n",
       "25%        1.000000     -1.000000      0.000000  \n",
       "50%        2.000000     -1.000000      0.000000  \n",
       "75%        3.000000     -1.000000      0.000000  \n",
       "max       63.000000    871.000000    275.000000  "
      ]
     },
     "execution_count": 4,
     "metadata": {},
     "output_type": "execute_result"
    }
   ],
   "source": [
    "df.describe()"
   ]
  },
  {
   "cell_type": "markdown",
   "id": "ec64f082",
   "metadata": {},
   "source": [
    "#### ~ Describe the pdays column, make note of the mean, median and minimum values. Anything fishy in the values?"
   ]
  },
  {
   "cell_type": "code",
   "execution_count": 5,
   "id": "6a094a98",
   "metadata": {},
   "outputs": [
    {
     "data": {
      "text/plain": [
       "count    45211.000000\n",
       "mean        40.197828\n",
       "std        100.128746\n",
       "min         -1.000000\n",
       "25%         -1.000000\n",
       "50%         -1.000000\n",
       "75%         -1.000000\n",
       "max        871.000000\n",
       "Name: pdays, dtype: float64"
      ]
     },
     "execution_count": 5,
     "metadata": {},
     "output_type": "execute_result"
    }
   ],
   "source": [
    "df.pdays.describe()"
   ]
  },
  {
   "cell_type": "markdown",
   "id": "1622f5eb",
   "metadata": {},
   "source": [
    "* It seems that pdays column contains so much '-1' value i.e. upto 75% . It shows that the customers with values -1 have not been able to make with previous campaing. Since they have no any relation with the bank that much, we must exclude that data. By doing this we may know that how much customers been able to make it to the campaing."
   ]
  },
  {
   "cell_type": "markdown",
   "id": "13ef08b3",
   "metadata": {},
   "source": [
    "#### ~ Describe the pdays column again, this time limiting yourself to the relevant values of pdays. How different are the mean and the median values?"
   ]
  },
  {
   "cell_type": "markdown",
   "id": "5b8c4bca",
   "metadata": {},
   "source": [
    "In pdays '-1' have been used as indicator not an value. Hence treating these values as missing. Ignore these values in our average/median/state calculations. Keep it NaN. Wherever pdays is -1, replace with NaN"
   ]
  },
  {
   "cell_type": "code",
   "execution_count": 6,
   "id": "a3e158ed",
   "metadata": {},
   "outputs": [
    {
     "data": {
      "text/plain": [
       "count    8257.000000\n",
       "mean      224.577692\n",
       "std       115.344035\n",
       "min         1.000000\n",
       "25%       133.000000\n",
       "50%       194.000000\n",
       "75%       327.000000\n",
       "max       871.000000\n",
       "Name: pdays, dtype: float64"
      ]
     },
     "execution_count": 6,
     "metadata": {},
     "output_type": "execute_result"
    }
   ],
   "source": [
    "df1=df.copy()\n",
    "df1.drop(df1[df1['pdays'] < 0].index, inplace = True) \n",
    "df1.pdays.describe()"
   ]
  },
  {
   "cell_type": "markdown",
   "id": "d1f0275e",
   "metadata": {},
   "source": [
    "* This time mean and median has changed significantly because we have removed the case where pdays value is -1 i.e. we have removed the customer that were not contacted previously for campaign."
   ]
  },
  {
   "cell_type": "markdown",
   "id": "92fd0f9e",
   "metadata": {},
   "source": [
    "#### ~ Plot a horizontal bar graph with the median values of balance for each education level value. Which group has the highest median?"
   ]
  },
  {
   "cell_type": "code",
   "execution_count": 7,
   "id": "aaa0f01f",
   "metadata": {},
   "outputs": [
    {
     "data": {
      "text/plain": [
       "<AxesSubplot:ylabel='education'>"
      ]
     },
     "execution_count": 7,
     "metadata": {},
     "output_type": "execute_result"
    },
    {
     "data": {
      "image/png": "[encoded data removed]",
      "text/plain": [
       "<Figure size 432x288 with 1 Axes>"
      ]
     },
     "metadata": {
      "needs_background": "light"
     },
     "output_type": "display_data"
    }
   ],
   "source": [
    "df1.groupby(['education'])['balance'].median().plot.barh()"
   ]
  },
  {
   "cell_type": "markdown",
   "id": "6b836e1c",
   "metadata": {},
   "source": [
    "* Thus, We can conclude from graph that customer with Unknown level of education has highest median value for balance."
   ]
  },
  {
   "cell_type": "markdown",
   "id": "2f7efecc",
   "metadata": {},
   "source": [
    "#### ~ Make a box plot for pdays. Do you see any outliers?"
   ]
  },
  {
   "cell_type": "code",
   "execution_count": 8,
   "id": "3aa5d7f1",
   "metadata": {},
   "outputs": [
    {
     "data": {
      "image/png": "[encoded data removed]",
      "text/plain": [
       "<Figure size 432x288 with 1 Axes>"
      ]
     },
     "metadata": {
      "needs_background": "light"
     },
     "output_type": "display_data"
    }
   ],
   "source": [
    "df1.pdays.plot.box()\n",
    "plt.show()"
   ]
  },
  {
   "cell_type": "markdown",
   "id": "88b8da06",
   "metadata": {},
   "source": [
    "* Yes, Outliers are present in pdays column. "
   ]
  },
  {
   "cell_type": "code",
   "execution_count": 9,
   "id": "3a31b7f9",
   "metadata": {},
   "outputs": [
    {
     "name": "stdout",
     "output_type": "stream",
     "text": [
      "Boxplot with no Outliers\n"
     ]
    },
    {
     "data": {
      "image/png": "[encoded data removed]",
      "text/plain": [
       "<Figure size 432x288 with 1 Axes>"
      ]
     },
     "metadata": {
      "needs_background": "light"
     },
     "output_type": "display_data"
    }
   ],
   "source": [
    "# Handling the Outliers\n",
    "df2 = df1[df1['pdays'] >= 600]\n",
    "df1 = df1.drop(df2.index,axis=0)\n",
    "print('Boxplot with no Outliers')\n",
    "df1.pdays.plot.box()\n",
    "plt.show()"
   ]
  },
  {
   "cell_type": "code",
   "execution_count": 10,
   "id": "bf9f12f5",
   "metadata": {},
   "outputs": [
    {
     "name": "stdout",
     "output_type": "stream",
     "text": [
      "<class 'pandas.core.frame.DataFrame'>\n",
      "Int64Index: 8205 entries, 24060 to 45210\n",
      "Data columns (total 19 columns):\n",
      " #   Column     Non-Null Count  Dtype \n",
      "---  ------     --------------  ----- \n",
      " 0   age        8205 non-null   int64 \n",
      " 1   job        8205 non-null   object\n",
      " 2   salary     8205 non-null   int64 \n",
      " 3   marital    8205 non-null   object\n",
      " 4   education  8205 non-null   object\n",
      " 5   targeted   8205 non-null   object\n",
      " 6   default    8205 non-null   object\n",
      " 7   balance    8205 non-null   int64 \n",
      " 8   housing    8205 non-null   object\n",
      " 9   loan       8205 non-null   object\n",
      " 10  contact    8205 non-null   object\n",
      " 11  day        8205 non-null   int64 \n",
      " 12  month      8205 non-null   object\n",
      " 13  duration   8205 non-null   int64 \n",
      " 14  campaign   8205 non-null   int64 \n",
      " 15  pdays      8205 non-null   int64 \n",
      " 16  previous   8205 non-null   int64 \n",
      " 17  poutcome   8205 non-null   object\n",
      " 18  response   8205 non-null   object\n",
      "dtypes: int64(8), object(11)\n",
      "memory usage: 1.3+ MB\n"
     ]
    }
   ],
   "source": [
    "df1.info()"
   ]
  },
  {
   "cell_type": "markdown",
   "id": "8277ea48",
   "metadata": {},
   "source": [
    "#### ~ The final goal is to make a predictive model to predict if the customer will respond positively to the campaign or not. The target variable is “response”. So performing bi-variate analysis to identify the features that are directly associated with the target variable."
   ]
  },
  {
   "cell_type": "markdown",
   "id": "4d549488",
   "metadata": {},
   "source": [
    "##### Bi- variate Analysis"
   ]
  },
  {
   "cell_type": "markdown",
   "id": "8989e87d",
   "metadata": {},
   "source": [
    "##### Converting the response variable to a convenient form"
   ]
  },
  {
   "cell_type": "code",
   "execution_count": 11,
   "id": "68687e3a",
   "metadata": {},
   "outputs": [
    {
     "data": {
      "text/plain": [
       "no     0.77014\n",
       "yes    0.22986\n",
       "Name: response, dtype: float64"
      ]
     },
     "execution_count": 11,
     "metadata": {},
     "output_type": "execute_result"
    }
   ],
   "source": [
    "df1.response.value_counts(normalize=True)"
   ]
  },
  {
   "cell_type": "code",
   "execution_count": 12,
   "id": "92d4d7e7",
   "metadata": {},
   "outputs": [
    {
     "data": {
      "text/plain": [
       "0    6319\n",
       "1    1886\n",
       "Name: response, dtype: int64"
      ]
     },
     "execution_count": 12,
     "metadata": {},
     "output_type": "execute_result"
    }
   ],
   "source": [
    "df1.replace({'response': {\"yes\": 1,'no':0}},inplace=True)\n",
    "df1.response.value_counts()"
   ]
  },
  {
   "cell_type": "code",
   "execution_count": 13,
   "id": "94b229cc",
   "metadata": {},
   "outputs": [
    {
     "data": {
      "text/html": [
       "<div>\n",
       "<style scoped>\n",
       "    .dataframe tbody tr th:only-of-type {\n",
       "        vertical-align: middle;\n",
       "    }\n",
       "\n",
       "    .dataframe tbody tr th {\n",
       "        vertical-align: top;\n",
       "    }\n",
       "\n",
       "    .dataframe thead th {\n",
       "        text-align: right;\n",
       "    }\n",
       "</style>\n",
       "<table border=\"1\" class=\"dataframe\">\n",
       "  <thead>\n",
       "    <tr style=\"text-align: right;\">\n",
       "      <th></th>\n",
       "      <th>age</th>\n",
       "      <th>job</th>\n",
       "      <th>salary</th>\n",
       "      <th>marital</th>\n",
       "      <th>education</th>\n",
       "      <th>targeted</th>\n",
       "      <th>default</th>\n",
       "      <th>balance</th>\n",
       "      <th>housing</th>\n",
       "      <th>loan</th>\n",
       "      <th>contact</th>\n",
       "      <th>day</th>\n",
       "      <th>month</th>\n",
       "      <th>duration</th>\n",
       "      <th>campaign</th>\n",
       "      <th>pdays</th>\n",
       "      <th>previous</th>\n",
       "      <th>poutcome</th>\n",
       "      <th>response</th>\n",
       "    </tr>\n",
       "  </thead>\n",
       "  <tbody>\n",
       "    <tr>\n",
       "      <th>24060</th>\n",
       "      <td>33</td>\n",
       "      <td>admin.</td>\n",
       "      <td>50000</td>\n",
       "      <td>married</td>\n",
       "      <td>tertiary</td>\n",
       "      <td>yes</td>\n",
       "      <td>no</td>\n",
       "      <td>882</td>\n",
       "      <td>no</td>\n",
       "      <td>no</td>\n",
       "      <td>telephone</td>\n",
       "      <td>21</td>\n",
       "      <td>oct</td>\n",
       "      <td>39</td>\n",
       "      <td>1</td>\n",
       "      <td>151</td>\n",
       "      <td>3</td>\n",
       "      <td>failure</td>\n",
       "      <td>0</td>\n",
       "    </tr>\n",
       "    <tr>\n",
       "      <th>24062</th>\n",
       "      <td>42</td>\n",
       "      <td>admin.</td>\n",
       "      <td>50000</td>\n",
       "      <td>single</td>\n",
       "      <td>secondary</td>\n",
       "      <td>yes</td>\n",
       "      <td>no</td>\n",
       "      <td>-247</td>\n",
       "      <td>yes</td>\n",
       "      <td>yes</td>\n",
       "      <td>telephone</td>\n",
       "      <td>21</td>\n",
       "      <td>oct</td>\n",
       "      <td>519</td>\n",
       "      <td>1</td>\n",
       "      <td>166</td>\n",
       "      <td>1</td>\n",
       "      <td>other</td>\n",
       "      <td>1</td>\n",
       "    </tr>\n",
       "    <tr>\n",
       "      <th>24064</th>\n",
       "      <td>33</td>\n",
       "      <td>services</td>\n",
       "      <td>70000</td>\n",
       "      <td>married</td>\n",
       "      <td>secondary</td>\n",
       "      <td>yes</td>\n",
       "      <td>no</td>\n",
       "      <td>3444</td>\n",
       "      <td>yes</td>\n",
       "      <td>no</td>\n",
       "      <td>telephone</td>\n",
       "      <td>21</td>\n",
       "      <td>oct</td>\n",
       "      <td>144</td>\n",
       "      <td>1</td>\n",
       "      <td>91</td>\n",
       "      <td>4</td>\n",
       "      <td>failure</td>\n",
       "      <td>1</td>\n",
       "    </tr>\n",
       "    <tr>\n",
       "      <th>24072</th>\n",
       "      <td>36</td>\n",
       "      <td>management</td>\n",
       "      <td>100000</td>\n",
       "      <td>married</td>\n",
       "      <td>tertiary</td>\n",
       "      <td>yes</td>\n",
       "      <td>no</td>\n",
       "      <td>2415</td>\n",
       "      <td>yes</td>\n",
       "      <td>no</td>\n",
       "      <td>telephone</td>\n",
       "      <td>22</td>\n",
       "      <td>oct</td>\n",
       "      <td>73</td>\n",
       "      <td>1</td>\n",
       "      <td>86</td>\n",
       "      <td>4</td>\n",
       "      <td>other</td>\n",
       "      <td>0</td>\n",
       "    </tr>\n",
       "    <tr>\n",
       "      <th>24077</th>\n",
       "      <td>36</td>\n",
       "      <td>management</td>\n",
       "      <td>100000</td>\n",
       "      <td>married</td>\n",
       "      <td>tertiary</td>\n",
       "      <td>yes</td>\n",
       "      <td>no</td>\n",
       "      <td>0</td>\n",
       "      <td>yes</td>\n",
       "      <td>no</td>\n",
       "      <td>telephone</td>\n",
       "      <td>23</td>\n",
       "      <td>oct</td>\n",
       "      <td>140</td>\n",
       "      <td>1</td>\n",
       "      <td>143</td>\n",
       "      <td>3</td>\n",
       "      <td>failure</td>\n",
       "      <td>1</td>\n",
       "    </tr>\n",
       "  </tbody>\n",
       "</table>\n",
       "</div>"
      ],
      "text/plain": [
       "       age         job  salary  marital  education targeted default  balance  \\\n",
       "24060   33      admin.   50000  married   tertiary      yes      no      882   \n",
       "24062   42      admin.   50000   single  secondary      yes      no     -247   \n",
       "24064   33    services   70000  married  secondary      yes      no     3444   \n",
       "24072   36  management  100000  married   tertiary      yes      no     2415   \n",
       "24077   36  management  100000  married   tertiary      yes      no        0   \n",
       "\n",
       "      housing loan    contact  day month  duration  campaign  pdays  previous  \\\n",
       "24060      no   no  telephone   21   oct        39         1    151         3   \n",
       "24062     yes  yes  telephone   21   oct       519         1    166         1   \n",
       "24064     yes   no  telephone   21   oct       144         1     91         4   \n",
       "24072     yes   no  telephone   22   oct        73         1     86         4   \n",
       "24077     yes   no  telephone   23   oct       140         1    143         3   \n",
       "\n",
       "      poutcome  response  \n",
       "24060  failure         0  \n",
       "24062    other         1  \n",
       "24064  failure         1  \n",
       "24072    other         0  \n",
       "24077  failure         1  "
      ]
     },
     "execution_count": 13,
     "metadata": {},
     "output_type": "execute_result"
    }
   ],
   "source": [
    "df1.head()"
   ]
  },
  {
   "cell_type": "markdown",
   "id": "e731d809",
   "metadata": {},
   "source": [
    "#### ~ Make suitable plots for associations with numerical features and categorical features"
   ]
  },
  {
   "cell_type": "markdown",
   "id": "0fc2ca63",
   "metadata": {},
   "source": [
    "* Identifying categorical & numerical columns"
   ]
  },
  {
   "cell_type": "code",
   "execution_count": 14,
   "id": "87dd74ed",
   "metadata": {},
   "outputs": [
    {
     "name": "stdout",
     "output_type": "stream",
     "text": [
      "Numerical Columns\n",
      "['age', 'salary', 'balance', 'day', 'duration', 'campaign', 'pdays', 'previous', 'response']\n",
      "\n",
      "Categorical Columns\n",
      "['marital', 'loan', 'housing', 'poutcome', 'default', 'targeted', 'month', 'job', 'contact', 'education']\n"
     ]
    }
   ],
   "source": [
    "cols = df1.columns.to_list()\n",
    "num_cols= df1._get_numeric_data().columns.to_list()\n",
    "cat_cols = list(set(cols) - set(num_cols))\n",
    "\n",
    "print('Numerical Columns')\n",
    "print(num_cols)\n",
    "print('\\nCategorical Columns')\n",
    "print(cat_cols)"
   ]
  },
  {
   "cell_type": "markdown",
   "id": "5acc5f3c",
   "metadata": {},
   "source": [
    "* Visualizing Numerical Features with Response"
   ]
  },
  {
   "cell_type": "code",
   "execution_count": 15,
   "id": "5dfa1e7a",
   "metadata": {
    "scrolled": false
   },
   "outputs": [
    {
     "data": {
      "image/png": "[encoded data removed]",
      "text/plain": [
       "<Figure size 432x288 with 1 Axes>"
      ]
     },
     "metadata": {
      "needs_background": "light"
     },
     "output_type": "display_data"
    },
    {
     "data": {
      "image/png": "[encoded data removed]",
      "text/plain": [
       "<Figure size 432x288 with 1 Axes>"
      ]
     },
     "metadata": {
      "needs_background": "light"
     },
     "output_type": "display_data"
    },
    {
     "data": {
      "image/png": "[encoded data removed]",
      "text/plain": [
       "<Figure size 432x288 with 1 Axes>"
      ]
     },
     "metadata": {
      "needs_background": "light"
     },
     "output_type": "display_data"
    },
    {
     "data": {
      "image/png": "[encoded data removed]",
      "text/plain": [
       "<Figure size 432x288 with 1 Axes>"
      ]
     },
     "metadata": {
      "needs_background": "light"
     },
     "output_type": "display_data"
    },
    {
     "data": {
      "image/png": "[encoded data removed]",
      "text/plain": [
       "<Figure size 432x288 with 1 Axes>"
      ]
     },
     "metadata": {
      "needs_background": "light"
     },
     "output_type": "display_data"
    },
    {
     "data": {
      "image/png": "[encoded data removed]",
      "text/plain": [
       "<Figure size 432x288 with 1 Axes>"
      ]
     },
     "metadata": {
      "needs_background": "light"
     },
     "output_type": "display_data"
    },
    {
     "data": {
      "image/png": "[encoded data removed]",
      "text/plain": [
       "<Figure size 432x288 with 1 Axes>"
      ]
     },
     "metadata": {
      "needs_background": "light"
     },
     "output_type": "display_data"
    },
    {
     "data": {
      "image/png": "[encoded data removed]",
      "text/plain": [
       "<Figure size 432x288 with 1 Axes>"
      ]
     },
     "metadata": {
      "needs_background": "light"
     },
     "output_type": "display_data"
    },
    {
     "data": {
      "image/png": "[encoded data removed]",
      "text/plain": [
       "<Figure size 432x288 with 1 Axes>"
      ]
     },
     "metadata": {
      "needs_background": "light"
     },
     "output_type": "display_data"
    }
   ],
   "source": [
    "for i in df1[num_cols]:\n",
    "    sns.barplot(df1['response'],df1[i])\n",
    "    plt.show()"
   ]
  },
  {
   "cell_type": "markdown",
   "id": "c0b873c2",
   "metadata": {},
   "source": [
    "* Visualizing Categorical Features with Response"
   ]
  },
  {
   "cell_type": "code",
   "execution_count": 16,
   "id": "892805d5",
   "metadata": {
    "scrolled": false
   },
   "outputs": [
    {
     "data": {
      "image/png": "[encoded data removed]",
      "text/plain": [
       "<Figure size 432x288 with 1 Axes>"
      ]
     },
     "metadata": {
      "needs_background": "light"
     },
     "output_type": "display_data"
    },
    {
     "data": {
      "image/png": "[encoded data removed]",
      "text/plain": [
       "<Figure size 432x288 with 1 Axes>"
      ]
     },
     "metadata": {
      "needs_background": "light"
     },
     "output_type": "display_data"
    },
    {
     "data": {
      "image/png": "[encoded data removed]",
      "text/plain": [
       "<Figure size 432x288 with 1 Axes>"
      ]
     },
     "metadata": {
      "needs_background": "light"
     },
     "output_type": "display_data"
    },
    {
     "data": {
      "image/png": "[encoded data removed]",
      "text/plain": [
       "<Figure size 432x288 with 1 Axes>"
      ]
     },
     "metadata": {
      "needs_background": "light"
     },
     "output_type": "display_data"
    },
    {
     "data": {
      "image/png": "[encoded data removed]",
      "text/plain": [
       "<Figure size 432x288 with 1 Axes>"
      ]
     },
     "metadata": {
      "needs_background": "light"
     },
     "output_type": "display_data"
    },
    {
     "data": {
      "image/png": "[encoded data removed]",
      "text/plain": [
       "<Figure size 432x288 with 1 Axes>"
      ]
     },
     "metadata": {
      "needs_background": "light"
     },
     "output_type": "display_data"
    },
    {
     "data": {
      "image/png": "[encoded data removed]",
      "text/plain": [
       "<Figure size 432x288 with 1 Axes>"
      ]
     },
     "metadata": {
      "needs_background": "light"
     },
     "output_type": "display_data"
    },
    {
     "data": {
      "image/png": "[encoded data removed]",
      "text/plain": [
       "<Figure size 432x288 with 1 Axes>"
      ]
     },
     "metadata": {
      "needs_background": "light"
     },
     "output_type": "display_data"
    },
    {
     "data": {
      "image/png": "[encoded data removed]",
      "text/plain": [
       "<Figure size 432x288 with 1 Axes>"
      ]
     },
     "metadata": {
      "needs_background": "light"
     },
     "output_type": "display_data"
    },
    {
     "data": {
      "image/png": "[encoded data removed]",
      "text/plain": [
       "<Figure size 432x288 with 1 Axes>"
      ]
     },
     "metadata": {
      "needs_background": "light"
     },
     "output_type": "display_data"
    }
   ],
   "source": [
    "for i in df1[cat_cols]:\n",
    "    sns.barplot(df1['response'],df1[i],hue=df1[i])\n",
    "    plt.legend(bbox_to_anchor=(1.01,.99),borderaxespad=0,loc=2)\n",
    "    plt.show()"
   ]
  },
  {
   "cell_type": "markdown",
   "id": "94b59580",
   "metadata": {},
   "source": [
    "#### ~ Are the features about the previous campaign data useful?"
   ]
  },
  {
   "cell_type": "markdown",
   "id": "fd90d4cf",
   "metadata": {},
   "source": [
    "* Yes, The features about previous campaign data is useful."
   ]
  },
  {
   "cell_type": "markdown",
   "id": "c8ac8100",
   "metadata": {},
   "source": [
    "#### ~ Are pdays and poutcome associated with the target?"
   ]
  },
  {
   "cell_type": "markdown",
   "id": "65c2a266",
   "metadata": {},
   "source": [
    "* Yes, pdays & poutcome is associated with the target variable 'response'"
   ]
  },
  {
   "cell_type": "markdown",
   "id": "79140c11",
   "metadata": {},
   "source": [
    "#### ~ If yes, and if you plan to use them – how do you handle the pdays column with a value of -1 where the previous campaign data is missing? Explain your approach and your decision."
   ]
  },
  {
   "cell_type": "markdown",
   "id": "895f04d5",
   "metadata": {},
   "source": [
    "* -1 value in pdays or missing values or outliers are ignored because these are the customers whose are no any longer related with the bank, So it's better for model accurracy to drop them & go on with further process."
   ]
  },
  {
   "cell_type": "markdown",
   "id": "e955ba0a",
   "metadata": {},
   "source": [
    "#### ~ The necessary transformations for the categorical variables and the numeric variables"
   ]
  },
  {
   "cell_type": "code",
   "execution_count": 17,
   "id": "b8e5c6c7",
   "metadata": {},
   "outputs": [
    {
     "data": {
      "image/png": "[encoded data removed]",
      "text/plain": [
       "<Figure size 864x432 with 2 Axes>"
      ]
     },
     "metadata": {
      "needs_background": "light"
     },
     "output_type": "display_data"
    }
   ],
   "source": [
    "plt.figure(figsize=(12,6))\n",
    "sns.heatmap(df1.corr(),annot=True,cmap='gist_earth')\n",
    "plt.title(\"Correlation Of Each Numerical Features\")\n",
    "plt.show()"
   ]
  },
  {
   "cell_type": "markdown",
   "id": "49fe52f9",
   "metadata": {},
   "source": [
    "* we can see that duration variable is highly correlated with response variable 'Response Flag' . Whereas pdays variable is not highly correlated with response variable 'Response Flag'."
   ]
  },
  {
   "cell_type": "code",
   "execution_count": 18,
   "id": "3d110a60",
   "metadata": {
    "scrolled": false
   },
   "outputs": [
    {
     "data": {
      "text/plain": [
       "<Figure size 720x576 with 0 Axes>"
      ]
     },
     "metadata": {},
     "output_type": "display_data"
    },
    {
     "data": {
      "image/png": "[encoded data removed]",
      "text/plain": [
       "<Figure size 432x432 with 3 Axes>"
      ]
     },
     "metadata": {
      "needs_background": "light"
     },
     "output_type": "display_data"
    },
    {
     "data": {
      "text/plain": [
       "<Figure size 720x576 with 0 Axes>"
      ]
     },
     "metadata": {},
     "output_type": "display_data"
    },
    {
     "data": {
      "image/png": "[encoded data removed]",
      "text/plain": [
       "<Figure size 432x432 with 3 Axes>"
      ]
     },
     "metadata": {
      "needs_background": "light"
     },
     "output_type": "display_data"
    },
    {
     "data": {
      "text/plain": [
       "<Figure size 720x576 with 0 Axes>"
      ]
     },
     "metadata": {},
     "output_type": "display_data"
    },
    {
     "data": {
      "image/png": "[encoded data removed]",
      "text/plain": [
       "<Figure size 432x432 with 3 Axes>"
      ]
     },
     "metadata": {
      "needs_background": "light"
     },
     "output_type": "display_data"
    },
    {
     "data": {
      "text/plain": [
       "<Figure size 720x576 with 0 Axes>"
      ]
     },
     "metadata": {},
     "output_type": "display_data"
    },
    {
     "data": {
      "image/png": "[encoded data removed]",
      "text/plain": [
       "<Figure size 432x432 with 3 Axes>"
      ]
     },
     "metadata": {
      "needs_background": "light"
     },
     "output_type": "display_data"
    },
    {
     "data": {
      "text/plain": [
       "<Figure size 720x576 with 0 Axes>"
      ]
     },
     "metadata": {},
     "output_type": "display_data"
    },
    {
     "data": {
      "image/png": "[encoded data removed]",
      "text/plain": [
       "<Figure size 432x432 with 3 Axes>"
      ]
     },
     "metadata": {
      "needs_background": "light"
     },
     "output_type": "display_data"
    },
    {
     "data": {
      "text/plain": [
       "<Figure size 720x576 with 0 Axes>"
      ]
     },
     "metadata": {},
     "output_type": "display_data"
    },
    {
     "data": {
      "image/png": "[encoded data removed]",
      "text/plain": [
       "<Figure size 432x432 with 3 Axes>"
      ]
     },
     "metadata": {
      "needs_background": "light"
     },
     "output_type": "display_data"
    },
    {
     "data": {
      "text/plain": [
       "<Figure size 720x576 with 0 Axes>"
      ]
     },
     "metadata": {},
     "output_type": "display_data"
    },
    {
     "data": {
      "image/png": "[encoded data removed]",
      "text/plain": [
       "<Figure size 432x432 with 3 Axes>"
      ]
     },
     "metadata": {
      "needs_background": "light"
     },
     "output_type": "display_data"
    },
    {
     "data": {
      "text/plain": [
       "<Figure size 720x576 with 0 Axes>"
      ]
     },
     "metadata": {},
     "output_type": "display_data"
    },
    {
     "data": {
      "image/png": "[encoded data removed]",
      "text/plain": [
       "<Figure size 432x432 with 3 Axes>"
      ]
     },
     "metadata": {
      "needs_background": "light"
     },
     "output_type": "display_data"
    }
   ],
   "source": [
    "for col in num_cols[:-1]:\n",
    "    plt.figure(figsize=(10,8))\n",
    "    sns.jointplot(x = df1[col],y = df1[\"response\"],kind='reg')\n",
    "    plt.xlabel(col,fontsize = 15)\n",
    "    plt.ylabel(\"Response\",fontsize = 15)\n",
    "    plt.grid()\n",
    "    plt.show()"
   ]
  },
  {
   "cell_type": "markdown",
   "id": "82c707fa",
   "metadata": {},
   "source": [
    "* Label Encoding of Categorical Variables."
   ]
  },
  {
   "cell_type": "code",
   "execution_count": 19,
   "id": "78815007",
   "metadata": {},
   "outputs": [],
   "source": [
    "from sklearn.preprocessing import LabelEncoder"
   ]
  },
  {
   "cell_type": "code",
   "execution_count": 20,
   "id": "fb55eec5",
   "metadata": {},
   "outputs": [
    {
     "data": {
      "text/html": [
       "<div>\n",
       "<style scoped>\n",
       "    .dataframe tbody tr th:only-of-type {\n",
       "        vertical-align: middle;\n",
       "    }\n",
       "\n",
       "    .dataframe tbody tr th {\n",
       "        vertical-align: top;\n",
       "    }\n",
       "\n",
       "    .dataframe thead th {\n",
       "        text-align: right;\n",
       "    }\n",
       "</style>\n",
       "<table border=\"1\" class=\"dataframe\">\n",
       "  <thead>\n",
       "    <tr style=\"text-align: right;\">\n",
       "      <th></th>\n",
       "      <th>marital</th>\n",
       "      <th>loan</th>\n",
       "      <th>housing</th>\n",
       "      <th>poutcome</th>\n",
       "      <th>default</th>\n",
       "      <th>targeted</th>\n",
       "      <th>month</th>\n",
       "      <th>job</th>\n",
       "      <th>contact</th>\n",
       "      <th>education</th>\n",
       "    </tr>\n",
       "  </thead>\n",
       "  <tbody>\n",
       "    <tr>\n",
       "      <th>24060</th>\n",
       "      <td>1</td>\n",
       "      <td>0</td>\n",
       "      <td>0</td>\n",
       "      <td>0</td>\n",
       "      <td>0</td>\n",
       "      <td>1</td>\n",
       "      <td>10</td>\n",
       "      <td>0</td>\n",
       "      <td>1</td>\n",
       "      <td>2</td>\n",
       "    </tr>\n",
       "    <tr>\n",
       "      <th>24062</th>\n",
       "      <td>2</td>\n",
       "      <td>1</td>\n",
       "      <td>1</td>\n",
       "      <td>1</td>\n",
       "      <td>0</td>\n",
       "      <td>1</td>\n",
       "      <td>10</td>\n",
       "      <td>0</td>\n",
       "      <td>1</td>\n",
       "      <td>1</td>\n",
       "    </tr>\n",
       "    <tr>\n",
       "      <th>24064</th>\n",
       "      <td>1</td>\n",
       "      <td>0</td>\n",
       "      <td>1</td>\n",
       "      <td>0</td>\n",
       "      <td>0</td>\n",
       "      <td>1</td>\n",
       "      <td>10</td>\n",
       "      <td>7</td>\n",
       "      <td>1</td>\n",
       "      <td>1</td>\n",
       "    </tr>\n",
       "    <tr>\n",
       "      <th>24072</th>\n",
       "      <td>1</td>\n",
       "      <td>0</td>\n",
       "      <td>1</td>\n",
       "      <td>1</td>\n",
       "      <td>0</td>\n",
       "      <td>1</td>\n",
       "      <td>10</td>\n",
       "      <td>4</td>\n",
       "      <td>1</td>\n",
       "      <td>2</td>\n",
       "    </tr>\n",
       "    <tr>\n",
       "      <th>24077</th>\n",
       "      <td>1</td>\n",
       "      <td>0</td>\n",
       "      <td>1</td>\n",
       "      <td>0</td>\n",
       "      <td>0</td>\n",
       "      <td>1</td>\n",
       "      <td>10</td>\n",
       "      <td>4</td>\n",
       "      <td>1</td>\n",
       "      <td>2</td>\n",
       "    </tr>\n",
       "  </tbody>\n",
       "</table>\n",
       "</div>"
      ],
      "text/plain": [
       "       marital  loan  housing  poutcome  default  targeted  month  job  \\\n",
       "24060        1     0        0         0        0         1     10    0   \n",
       "24062        2     1        1         1        0         1     10    0   \n",
       "24064        1     0        1         0        0         1     10    7   \n",
       "24072        1     0        1         1        0         1     10    4   \n",
       "24077        1     0        1         0        0         1     10    4   \n",
       "\n",
       "       contact  education  \n",
       "24060        1          2  \n",
       "24062        1          1  \n",
       "24064        1          1  \n",
       "24072        1          2  \n",
       "24077        1          2  "
      ]
     },
     "execution_count": 20,
     "metadata": {},
     "output_type": "execute_result"
    }
   ],
   "source": [
    "df3 = df1[cat_cols].apply(LabelEncoder().fit_transform)\n",
    "df3.head()"
   ]
  },
  {
   "cell_type": "code",
   "execution_count": 21,
   "id": "0c1414db",
   "metadata": {},
   "outputs": [
    {
     "data": {
      "text/html": [
       "<div>\n",
       "<style scoped>\n",
       "    .dataframe tbody tr th:only-of-type {\n",
       "        vertical-align: middle;\n",
       "    }\n",
       "\n",
       "    .dataframe tbody tr th {\n",
       "        vertical-align: top;\n",
       "    }\n",
       "\n",
       "    .dataframe thead th {\n",
       "        text-align: right;\n",
       "    }\n",
       "</style>\n",
       "<table border=\"1\" class=\"dataframe\">\n",
       "  <thead>\n",
       "    <tr style=\"text-align: right;\">\n",
       "      <th></th>\n",
       "      <th>marital</th>\n",
       "      <th>loan</th>\n",
       "      <th>housing</th>\n",
       "      <th>poutcome</th>\n",
       "      <th>default</th>\n",
       "      <th>targeted</th>\n",
       "      <th>month</th>\n",
       "      <th>job</th>\n",
       "      <th>contact</th>\n",
       "      <th>education</th>\n",
       "      <th>age</th>\n",
       "      <th>salary</th>\n",
       "      <th>balance</th>\n",
       "      <th>day</th>\n",
       "      <th>duration</th>\n",
       "      <th>campaign</th>\n",
       "      <th>pdays</th>\n",
       "      <th>previous</th>\n",
       "      <th>response</th>\n",
       "    </tr>\n",
       "  </thead>\n",
       "  <tbody>\n",
       "    <tr>\n",
       "      <th>24060</th>\n",
       "      <td>1</td>\n",
       "      <td>0</td>\n",
       "      <td>0</td>\n",
       "      <td>0</td>\n",
       "      <td>0</td>\n",
       "      <td>1</td>\n",
       "      <td>10</td>\n",
       "      <td>0</td>\n",
       "      <td>1</td>\n",
       "      <td>2</td>\n",
       "      <td>33</td>\n",
       "      <td>50000</td>\n",
       "      <td>882</td>\n",
       "      <td>21</td>\n",
       "      <td>39</td>\n",
       "      <td>1</td>\n",
       "      <td>151</td>\n",
       "      <td>3</td>\n",
       "      <td>0</td>\n",
       "    </tr>\n",
       "    <tr>\n",
       "      <th>24062</th>\n",
       "      <td>2</td>\n",
       "      <td>1</td>\n",
       "      <td>1</td>\n",
       "      <td>1</td>\n",
       "      <td>0</td>\n",
       "      <td>1</td>\n",
       "      <td>10</td>\n",
       "      <td>0</td>\n",
       "      <td>1</td>\n",
       "      <td>1</td>\n",
       "      <td>42</td>\n",
       "      <td>50000</td>\n",
       "      <td>-247</td>\n",
       "      <td>21</td>\n",
       "      <td>519</td>\n",
       "      <td>1</td>\n",
       "      <td>166</td>\n",
       "      <td>1</td>\n",
       "      <td>1</td>\n",
       "    </tr>\n",
       "    <tr>\n",
       "      <th>24064</th>\n",
       "      <td>1</td>\n",
       "      <td>0</td>\n",
       "      <td>1</td>\n",
       "      <td>0</td>\n",
       "      <td>0</td>\n",
       "      <td>1</td>\n",
       "      <td>10</td>\n",
       "      <td>7</td>\n",
       "      <td>1</td>\n",
       "      <td>1</td>\n",
       "      <td>33</td>\n",
       "      <td>70000</td>\n",
       "      <td>3444</td>\n",
       "      <td>21</td>\n",
       "      <td>144</td>\n",
       "      <td>1</td>\n",
       "      <td>91</td>\n",
       "      <td>4</td>\n",
       "      <td>1</td>\n",
       "    </tr>\n",
       "    <tr>\n",
       "      <th>24072</th>\n",
       "      <td>1</td>\n",
       "      <td>0</td>\n",
       "      <td>1</td>\n",
       "      <td>1</td>\n",
       "      <td>0</td>\n",
       "      <td>1</td>\n",
       "      <td>10</td>\n",
       "      <td>4</td>\n",
       "      <td>1</td>\n",
       "      <td>2</td>\n",
       "      <td>36</td>\n",
       "      <td>100000</td>\n",
       "      <td>2415</td>\n",
       "      <td>22</td>\n",
       "      <td>73</td>\n",
       "      <td>1</td>\n",
       "      <td>86</td>\n",
       "      <td>4</td>\n",
       "      <td>0</td>\n",
       "    </tr>\n",
       "    <tr>\n",
       "      <th>24077</th>\n",
       "      <td>1</td>\n",
       "      <td>0</td>\n",
       "      <td>1</td>\n",
       "      <td>0</td>\n",
       "      <td>0</td>\n",
       "      <td>1</td>\n",
       "      <td>10</td>\n",
       "      <td>4</td>\n",
       "      <td>1</td>\n",
       "      <td>2</td>\n",
       "      <td>36</td>\n",
       "      <td>100000</td>\n",
       "      <td>0</td>\n",
       "      <td>23</td>\n",
       "      <td>140</td>\n",
       "      <td>1</td>\n",
       "      <td>143</td>\n",
       "      <td>3</td>\n",
       "      <td>1</td>\n",
       "    </tr>\n",
       "  </tbody>\n",
       "</table>\n",
       "</div>"
      ],
      "text/plain": [
       "       marital  loan  housing  poutcome  default  targeted  month  job  \\\n",
       "24060        1     0        0         0        0         1     10    0   \n",
       "24062        2     1        1         1        0         1     10    0   \n",
       "24064        1     0        1         0        0         1     10    7   \n",
       "24072        1     0        1         1        0         1     10    4   \n",
       "24077        1     0        1         0        0         1     10    4   \n",
       "\n",
       "       contact  education  age  salary  balance  day  duration  campaign  \\\n",
       "24060        1          2   33   50000      882   21        39         1   \n",
       "24062        1          1   42   50000     -247   21       519         1   \n",
       "24064        1          1   33   70000     3444   21       144         1   \n",
       "24072        1          2   36  100000     2415   22        73         1   \n",
       "24077        1          2   36  100000        0   23       140         1   \n",
       "\n",
       "       pdays  previous  response  \n",
       "24060    151         3         0  \n",
       "24062    166         1         1  \n",
       "24064     91         4         1  \n",
       "24072     86         4         0  \n",
       "24077    143         3         1  "
      ]
     },
     "execution_count": 21,
     "metadata": {},
     "output_type": "execute_result"
    }
   ],
   "source": [
    "df4 = df3.join(df1[num_cols])\n",
    "df4.head()"
   ]
  },
  {
   "cell_type": "code",
   "execution_count": 22,
   "id": "da0ed7f0",
   "metadata": {},
   "outputs": [
    {
     "data": {
      "text/html": [
       "<div>\n",
       "<style scoped>\n",
       "    .dataframe tbody tr th:only-of-type {\n",
       "        vertical-align: middle;\n",
       "    }\n",
       "\n",
       "    .dataframe tbody tr th {\n",
       "        vertical-align: top;\n",
       "    }\n",
       "\n",
       "    .dataframe thead th {\n",
       "        text-align: right;\n",
       "    }\n",
       "</style>\n",
       "<table border=\"1\" class=\"dataframe\">\n",
       "  <thead>\n",
       "    <tr style=\"text-align: right;\">\n",
       "      <th></th>\n",
       "      <th>marital</th>\n",
       "      <th>loan</th>\n",
       "      <th>housing</th>\n",
       "      <th>poutcome</th>\n",
       "      <th>default</th>\n",
       "      <th>targeted</th>\n",
       "      <th>month</th>\n",
       "      <th>job</th>\n",
       "      <th>contact</th>\n",
       "      <th>education</th>\n",
       "      <th>age</th>\n",
       "      <th>salary</th>\n",
       "      <th>balance</th>\n",
       "      <th>day</th>\n",
       "      <th>duration</th>\n",
       "      <th>campaign</th>\n",
       "      <th>pdays</th>\n",
       "      <th>previous</th>\n",
       "      <th>response</th>\n",
       "    </tr>\n",
       "  </thead>\n",
       "  <tbody>\n",
       "    <tr>\n",
       "      <th>marital</th>\n",
       "      <td>1.000000</td>\n",
       "      <td>-0.055374</td>\n",
       "      <td>-0.056352</td>\n",
       "      <td>0.045484</td>\n",
       "      <td>-0.005753</td>\n",
       "      <td>-0.255486</td>\n",
       "      <td>-0.024663</td>\n",
       "      <td>0.072865</td>\n",
       "      <td>-0.028908</td>\n",
       "      <td>0.122070</td>\n",
       "      <td>-0.415511</td>\n",
       "      <td>-0.043422</td>\n",
       "      <td>-0.020178</td>\n",
       "      <td>0.016389</td>\n",
       "      <td>-0.009392</td>\n",
       "      <td>-0.008772</td>\n",
       "      <td>-0.006392</td>\n",
       "      <td>0.005519</td>\n",
       "      <td>0.049751</td>\n",
       "    </tr>\n",
       "    <tr>\n",
       "      <th>loan</th>\n",
       "      <td>-0.055374</td>\n",
       "      <td>1.000000</td>\n",
       "      <td>0.112240</td>\n",
       "      <td>-0.103648</td>\n",
       "      <td>0.052473</td>\n",
       "      <td>0.070190</td>\n",
       "      <td>-0.000715</td>\n",
       "      <td>-0.033795</td>\n",
       "      <td>-0.028964</td>\n",
       "      <td>-0.048812</td>\n",
       "      <td>-0.009009</td>\n",
       "      <td>0.014393</td>\n",
       "      <td>-0.084921</td>\n",
       "      <td>0.008988</td>\n",
       "      <td>-0.032730</td>\n",
       "      <td>0.008033</td>\n",
       "      <td>0.022819</td>\n",
       "      <td>0.013683</td>\n",
       "      <td>-0.115212</td>\n",
       "    </tr>\n",
       "    <tr>\n",
       "      <th>housing</th>\n",
       "      <td>-0.056352</td>\n",
       "      <td>0.112240</td>\n",
       "      <td>1.000000</td>\n",
       "      <td>-0.287046</td>\n",
       "      <td>0.022611</td>\n",
       "      <td>0.086574</td>\n",
       "      <td>0.017032</td>\n",
       "      <td>-0.132182</td>\n",
       "      <td>-0.072051</td>\n",
       "      <td>-0.127906</td>\n",
       "      <td>-0.179517</td>\n",
       "      <td>-0.034703</td>\n",
       "      <td>-0.109598</td>\n",
       "      <td>-0.067401</td>\n",
       "      <td>-0.072505</td>\n",
       "      <td>0.062326</td>\n",
       "      <td>0.365964</td>\n",
       "      <td>0.007706</td>\n",
       "      <td>-0.320280</td>\n",
       "    </tr>\n",
       "    <tr>\n",
       "      <th>poutcome</th>\n",
       "      <td>0.045484</td>\n",
       "      <td>-0.103648</td>\n",
       "      <td>-0.287046</td>\n",
       "      <td>1.000000</td>\n",
       "      <td>-0.025767</td>\n",
       "      <td>-0.071648</td>\n",
       "      <td>-0.018198</td>\n",
       "      <td>0.066452</td>\n",
       "      <td>0.024316</td>\n",
       "      <td>0.083959</td>\n",
       "      <td>0.052255</td>\n",
       "      <td>0.013536</td>\n",
       "      <td>0.051497</td>\n",
       "      <td>0.016912</td>\n",
       "      <td>0.110449</td>\n",
       "      <td>-0.001180</td>\n",
       "      <td>-0.243675</td>\n",
       "      <td>0.042900</td>\n",
       "      <td>0.425229</td>\n",
       "    </tr>\n",
       "    <tr>\n",
       "      <th>default</th>\n",
       "      <td>-0.005753</td>\n",
       "      <td>0.052473</td>\n",
       "      <td>0.022611</td>\n",
       "      <td>-0.025767</td>\n",
       "      <td>1.000000</td>\n",
       "      <td>0.019620</td>\n",
       "      <td>0.020435</td>\n",
       "      <td>-0.021111</td>\n",
       "      <td>-0.019521</td>\n",
       "      <td>-0.013600</td>\n",
       "      <td>-0.027905</td>\n",
       "      <td>0.000392</td>\n",
       "      <td>-0.045128</td>\n",
       "      <td>-0.000964</td>\n",
       "      <td>-0.002728</td>\n",
       "      <td>-0.002308</td>\n",
       "      <td>0.038702</td>\n",
       "      <td>0.012505</td>\n",
       "      <td>-0.028256</td>\n",
       "    </tr>\n",
       "    <tr>\n",
       "      <th>targeted</th>\n",
       "      <td>-0.255486</td>\n",
       "      <td>0.070190</td>\n",
       "      <td>0.086574</td>\n",
       "      <td>-0.071648</td>\n",
       "      <td>0.019620</td>\n",
       "      <td>1.000000</td>\n",
       "      <td>0.011374</td>\n",
       "      <td>-0.091083</td>\n",
       "      <td>0.024672</td>\n",
       "      <td>-0.632761</td>\n",
       "      <td>0.141069</td>\n",
       "      <td>-0.227927</td>\n",
       "      <td>-0.052601</td>\n",
       "      <td>-0.025070</td>\n",
       "      <td>-0.016042</td>\n",
       "      <td>0.017189</td>\n",
       "      <td>0.084503</td>\n",
       "      <td>-0.002387</td>\n",
       "      <td>-0.092791</td>\n",
       "    </tr>\n",
       "    <tr>\n",
       "      <th>month</th>\n",
       "      <td>-0.024663</td>\n",
       "      <td>-0.000715</td>\n",
       "      <td>0.017032</td>\n",
       "      <td>-0.018198</td>\n",
       "      <td>0.020435</td>\n",
       "      <td>0.011374</td>\n",
       "      <td>1.000000</td>\n",
       "      <td>-0.002806</td>\n",
       "      <td>0.041944</td>\n",
       "      <td>-0.012213</td>\n",
       "      <td>0.014876</td>\n",
       "      <td>0.018868</td>\n",
       "      <td>0.016244</td>\n",
       "      <td>-0.024655</td>\n",
       "      <td>-0.034737</td>\n",
       "      <td>0.024708</td>\n",
       "      <td>0.010131</td>\n",
       "      <td>0.012016</td>\n",
       "      <td>-0.009015</td>\n",
       "    </tr>\n",
       "    <tr>\n",
       "      <th>job</th>\n",
       "      <td>0.072865</td>\n",
       "      <td>-0.033795</td>\n",
       "      <td>-0.132182</td>\n",
       "      <td>0.066452</td>\n",
       "      <td>-0.021111</td>\n",
       "      <td>-0.091083</td>\n",
       "      <td>-0.002806</td>\n",
       "      <td>1.000000</td>\n",
       "      <td>0.000723</td>\n",
       "      <td>0.159377</td>\n",
       "      <td>-0.020727</td>\n",
       "      <td>0.115646</td>\n",
       "      <td>0.041900</td>\n",
       "      <td>0.014952</td>\n",
       "      <td>0.023745</td>\n",
       "      <td>-0.009013</td>\n",
       "      <td>-0.116824</td>\n",
       "      <td>-0.000903</td>\n",
       "      <td>0.079660</td>\n",
       "    </tr>\n",
       "    <tr>\n",
       "      <th>contact</th>\n",
       "      <td>-0.028908</td>\n",
       "      <td>-0.028964</td>\n",
       "      <td>-0.072051</td>\n",
       "      <td>0.024316</td>\n",
       "      <td>-0.019521</td>\n",
       "      <td>0.024672</td>\n",
       "      <td>0.041944</td>\n",
       "      <td>0.000723</td>\n",
       "      <td>1.000000</td>\n",
       "      <td>-0.050515</td>\n",
       "      <td>0.175935</td>\n",
       "      <td>-0.035471</td>\n",
       "      <td>0.038262</td>\n",
       "      <td>-0.012872</td>\n",
       "      <td>-0.023321</td>\n",
       "      <td>0.077261</td>\n",
       "      <td>0.012072</td>\n",
       "      <td>0.037374</td>\n",
       "      <td>-0.007714</td>\n",
       "    </tr>\n",
       "    <tr>\n",
       "      <th>education</th>\n",
       "      <td>0.122070</td>\n",
       "      <td>-0.048812</td>\n",
       "      <td>-0.127906</td>\n",
       "      <td>0.083959</td>\n",
       "      <td>-0.013600</td>\n",
       "      <td>-0.632761</td>\n",
       "      <td>-0.012213</td>\n",
       "      <td>0.159377</td>\n",
       "      <td>-0.050515</td>\n",
       "      <td>1.000000</td>\n",
       "      <td>-0.120713</td>\n",
       "      <td>0.422500</td>\n",
       "      <td>0.074225</td>\n",
       "      <td>0.023110</td>\n",
       "      <td>-0.001378</td>\n",
       "      <td>-0.024108</td>\n",
       "      <td>-0.157076</td>\n",
       "      <td>0.000963</td>\n",
       "      <td>0.108581</td>\n",
       "    </tr>\n",
       "    <tr>\n",
       "      <th>age</th>\n",
       "      <td>-0.415511</td>\n",
       "      <td>-0.009009</td>\n",
       "      <td>-0.179517</td>\n",
       "      <td>0.052255</td>\n",
       "      <td>-0.027905</td>\n",
       "      <td>0.141069</td>\n",
       "      <td>0.014876</td>\n",
       "      <td>-0.020727</td>\n",
       "      <td>0.175935</td>\n",
       "      <td>-0.120713</td>\n",
       "      <td>1.000000</td>\n",
       "      <td>0.058856</td>\n",
       "      <td>0.115253</td>\n",
       "      <td>0.020092</td>\n",
       "      <td>0.060406</td>\n",
       "      <td>0.003632</td>\n",
       "      <td>-0.114029</td>\n",
       "      <td>0.004505</td>\n",
       "      <td>0.072784</td>\n",
       "    </tr>\n",
       "    <tr>\n",
       "      <th>salary</th>\n",
       "      <td>-0.043422</td>\n",
       "      <td>0.014393</td>\n",
       "      <td>-0.034703</td>\n",
       "      <td>0.013536</td>\n",
       "      <td>0.000392</td>\n",
       "      <td>-0.227927</td>\n",
       "      <td>0.018868</td>\n",
       "      <td>0.115646</td>\n",
       "      <td>-0.035471</td>\n",
       "      <td>0.422500</td>\n",
       "      <td>0.058856</td>\n",
       "      <td>1.000000</td>\n",
       "      <td>0.065883</td>\n",
       "      <td>0.001966</td>\n",
       "      <td>0.005802</td>\n",
       "      <td>-0.018930</td>\n",
       "      <td>-0.115426</td>\n",
       "      <td>0.030139</td>\n",
       "      <td>0.038064</td>\n",
       "    </tr>\n",
       "    <tr>\n",
       "      <th>balance</th>\n",
       "      <td>-0.020178</td>\n",
       "      <td>-0.084921</td>\n",
       "      <td>-0.109598</td>\n",
       "      <td>0.051497</td>\n",
       "      <td>-0.045128</td>\n",
       "      <td>-0.052601</td>\n",
       "      <td>0.016244</td>\n",
       "      <td>0.041900</td>\n",
       "      <td>0.038262</td>\n",
       "      <td>0.074225</td>\n",
       "      <td>0.115253</td>\n",
       "      <td>0.065883</td>\n",
       "      <td>1.000000</td>\n",
       "      <td>0.051482</td>\n",
       "      <td>0.040301</td>\n",
       "      <td>-0.008873</td>\n",
       "      <td>-0.110719</td>\n",
       "      <td>0.002707</td>\n",
       "      <td>0.077127</td>\n",
       "    </tr>\n",
       "    <tr>\n",
       "      <th>day</th>\n",
       "      <td>0.016389</td>\n",
       "      <td>0.008988</td>\n",
       "      <td>-0.067401</td>\n",
       "      <td>0.016912</td>\n",
       "      <td>-0.000964</td>\n",
       "      <td>-0.025070</td>\n",
       "      <td>-0.024655</td>\n",
       "      <td>0.014952</td>\n",
       "      <td>-0.012872</td>\n",
       "      <td>0.023110</td>\n",
       "      <td>0.020092</td>\n",
       "      <td>0.001966</td>\n",
       "      <td>0.051482</td>\n",
       "      <td>1.000000</td>\n",
       "      <td>-0.013321</td>\n",
       "      <td>-0.029450</td>\n",
       "      <td>-0.099897</td>\n",
       "      <td>-0.015200</td>\n",
       "      <td>0.030070</td>\n",
       "    </tr>\n",
       "    <tr>\n",
       "      <th>duration</th>\n",
       "      <td>-0.009392</td>\n",
       "      <td>-0.032730</td>\n",
       "      <td>-0.072505</td>\n",
       "      <td>0.110449</td>\n",
       "      <td>-0.002728</td>\n",
       "      <td>-0.016042</td>\n",
       "      <td>-0.034737</td>\n",
       "      <td>0.023745</td>\n",
       "      <td>-0.023321</td>\n",
       "      <td>-0.001378</td>\n",
       "      <td>0.060406</td>\n",
       "      <td>0.005802</td>\n",
       "      <td>0.040301</td>\n",
       "      <td>-0.013321</td>\n",
       "      <td>1.000000</td>\n",
       "      <td>-0.089766</td>\n",
       "      <td>-0.020229</td>\n",
       "      <td>-0.001453</td>\n",
       "      <td>0.342049</td>\n",
       "    </tr>\n",
       "    <tr>\n",
       "      <th>campaign</th>\n",
       "      <td>-0.008772</td>\n",
       "      <td>0.008033</td>\n",
       "      <td>0.062326</td>\n",
       "      <td>-0.001180</td>\n",
       "      <td>-0.002308</td>\n",
       "      <td>0.017189</td>\n",
       "      <td>0.024708</td>\n",
       "      <td>-0.009013</td>\n",
       "      <td>0.077261</td>\n",
       "      <td>-0.024108</td>\n",
       "      <td>0.003632</td>\n",
       "      <td>-0.018930</td>\n",
       "      <td>-0.008873</td>\n",
       "      <td>-0.029450</td>\n",
       "      <td>-0.089766</td>\n",
       "      <td>1.000000</td>\n",
       "      <td>0.068036</td>\n",
       "      <td>0.137433</td>\n",
       "      <td>-0.094356</td>\n",
       "    </tr>\n",
       "    <tr>\n",
       "      <th>pdays</th>\n",
       "      <td>-0.006392</td>\n",
       "      <td>0.022819</td>\n",
       "      <td>0.365964</td>\n",
       "      <td>-0.243675</td>\n",
       "      <td>0.038702</td>\n",
       "      <td>0.084503</td>\n",
       "      <td>0.010131</td>\n",
       "      <td>-0.116824</td>\n",
       "      <td>0.012072</td>\n",
       "      <td>-0.157076</td>\n",
       "      <td>-0.114029</td>\n",
       "      <td>-0.115426</td>\n",
       "      <td>-0.110719</td>\n",
       "      <td>-0.099897</td>\n",
       "      <td>-0.020229</td>\n",
       "      <td>0.068036</td>\n",
       "      <td>1.000000</td>\n",
       "      <td>-0.035643</td>\n",
       "      <td>-0.173773</td>\n",
       "    </tr>\n",
       "    <tr>\n",
       "      <th>previous</th>\n",
       "      <td>0.005519</td>\n",
       "      <td>0.013683</td>\n",
       "      <td>0.007706</td>\n",
       "      <td>0.042900</td>\n",
       "      <td>0.012505</td>\n",
       "      <td>-0.002387</td>\n",
       "      <td>0.012016</td>\n",
       "      <td>-0.000903</td>\n",
       "      <td>0.037374</td>\n",
       "      <td>0.000963</td>\n",
       "      <td>0.004505</td>\n",
       "      <td>0.030139</td>\n",
       "      <td>0.002707</td>\n",
       "      <td>-0.015200</td>\n",
       "      <td>-0.001453</td>\n",
       "      <td>0.137433</td>\n",
       "      <td>-0.035643</td>\n",
       "      <td>1.000000</td>\n",
       "      <td>0.008075</td>\n",
       "    </tr>\n",
       "    <tr>\n",
       "      <th>response</th>\n",
       "      <td>0.049751</td>\n",
       "      <td>-0.115212</td>\n",
       "      <td>-0.320280</td>\n",
       "      <td>0.425229</td>\n",
       "      <td>-0.028256</td>\n",
       "      <td>-0.092791</td>\n",
       "      <td>-0.009015</td>\n",
       "      <td>0.079660</td>\n",
       "      <td>-0.007714</td>\n",
       "      <td>0.108581</td>\n",
       "      <td>0.072784</td>\n",
       "      <td>0.038064</td>\n",
       "      <td>0.077127</td>\n",
       "      <td>0.030070</td>\n",
       "      <td>0.342049</td>\n",
       "      <td>-0.094356</td>\n",
       "      <td>-0.173773</td>\n",
       "      <td>0.008075</td>\n",
       "      <td>1.000000</td>\n",
       "    </tr>\n",
       "  </tbody>\n",
       "</table>\n",
       "</div>"
      ],
      "text/plain": [
       "            marital      loan   housing  poutcome   default  targeted  \\\n",
       "marital    1.000000 -0.055374 -0.056352  0.045484 -0.005753 -0.255486   \n",
       "loan      -0.055374  1.000000  0.112240 -0.103648  0.052473  0.070190   \n",
       "housing   -0.056352  0.112240  1.000000 -0.287046  0.022611  0.086574   \n",
       "poutcome   0.045484 -0.103648 -0.287046  1.000000 -0.025767 -0.071648   \n",
       "default   -0.005753  0.052473  0.022611 -0.025767  1.000000  0.019620   \n",
       "targeted  -0.255486  0.070190  0.086574 -0.071648  0.019620  1.000000   \n",
       "month     -0.024663 -0.000715  0.017032 -0.018198  0.020435  0.011374   \n",
       "job        0.072865 -0.033795 -0.132182  0.066452 -0.021111 -0.091083   \n",
       "contact   -0.028908 -0.028964 -0.072051  0.024316 -0.019521  0.024672   \n",
       "education  0.122070 -0.048812 -0.127906  0.083959 -0.013600 -0.632761   \n",
       "age       -0.415511 -0.009009 -0.179517  0.052255 -0.027905  0.141069   \n",
       "salary    -0.043422  0.014393 -0.034703  0.013536  0.000392 -0.227927   \n",
       "balance   -0.020178 -0.084921 -0.109598  0.051497 -0.045128 -0.052601   \n",
       "day        0.016389  0.008988 -0.067401  0.016912 -0.000964 -0.025070   \n",
       "duration  -0.009392 -0.032730 -0.072505  0.110449 -0.002728 -0.016042   \n",
       "campaign  -0.008772  0.008033  0.062326 -0.001180 -0.002308  0.017189   \n",
       "pdays     -0.006392  0.022819  0.365964 -0.243675  0.038702  0.084503   \n",
       "previous   0.005519  0.013683  0.007706  0.042900  0.012505 -0.002387   \n",
       "response   0.049751 -0.115212 -0.320280  0.425229 -0.028256 -0.092791   \n",
       "\n",
       "              month       job   contact  education       age    salary  \\\n",
       "marital   -0.024663  0.072865 -0.028908   0.122070 -0.415511 -0.043422   \n",
       "loan      -0.000715 -0.033795 -0.028964  -0.048812 -0.009009  0.014393   \n",
       "housing    0.017032 -0.132182 -0.072051  -0.127906 -0.179517 -0.034703   \n",
       "poutcome  -0.018198  0.066452  0.024316   0.083959  0.052255  0.013536   \n",
       "default    0.020435 -0.021111 -0.019521  -0.013600 -0.027905  0.000392   \n",
       "targeted   0.011374 -0.091083  0.024672  -0.632761  0.141069 -0.227927   \n",
       "month      1.000000 -0.002806  0.041944  -0.012213  0.014876  0.018868   \n",
       "job       -0.002806  1.000000  0.000723   0.159377 -0.020727  0.115646   \n",
       "contact    0.041944  0.000723  1.000000  -0.050515  0.175935 -0.035471   \n",
       "education -0.012213  0.159377 -0.050515   1.000000 -0.120713  0.422500   \n",
       "age        0.014876 -0.020727  0.175935  -0.120713  1.000000  0.058856   \n",
       "salary     0.018868  0.115646 -0.035471   0.422500  0.058856  1.000000   \n",
       "balance    0.016244  0.041900  0.038262   0.074225  0.115253  0.065883   \n",
       "day       -0.024655  0.014952 -0.012872   0.023110  0.020092  0.001966   \n",
       "duration  -0.034737  0.023745 -0.023321  -0.001378  0.060406  0.005802   \n",
       "campaign   0.024708 -0.009013  0.077261  -0.024108  0.003632 -0.018930   \n",
       "pdays      0.010131 -0.116824  0.012072  -0.157076 -0.114029 -0.115426   \n",
       "previous   0.012016 -0.000903  0.037374   0.000963  0.004505  0.030139   \n",
       "response  -0.009015  0.079660 -0.007714   0.108581  0.072784  0.038064   \n",
       "\n",
       "            balance       day  duration  campaign     pdays  previous  \\\n",
       "marital   -0.020178  0.016389 -0.009392 -0.008772 -0.006392  0.005519   \n",
       "loan      -0.084921  0.008988 -0.032730  0.008033  0.022819  0.013683   \n",
       "housing   -0.109598 -0.067401 -0.072505  0.062326  0.365964  0.007706   \n",
       "poutcome   0.051497  0.016912  0.110449 -0.001180 -0.243675  0.042900   \n",
       "default   -0.045128 -0.000964 -0.002728 -0.002308  0.038702  0.012505   \n",
       "targeted  -0.052601 -0.025070 -0.016042  0.017189  0.084503 -0.002387   \n",
       "month      0.016244 -0.024655 -0.034737  0.024708  0.010131  0.012016   \n",
       "job        0.041900  0.014952  0.023745 -0.009013 -0.116824 -0.000903   \n",
       "contact    0.038262 -0.012872 -0.023321  0.077261  0.012072  0.037374   \n",
       "education  0.074225  0.023110 -0.001378 -0.024108 -0.157076  0.000963   \n",
       "age        0.115253  0.020092  0.060406  0.003632 -0.114029  0.004505   \n",
       "salary     0.065883  0.001966  0.005802 -0.018930 -0.115426  0.030139   \n",
       "balance    1.000000  0.051482  0.040301 -0.008873 -0.110719  0.002707   \n",
       "day        0.051482  1.000000 -0.013321 -0.029450 -0.099897 -0.015200   \n",
       "duration   0.040301 -0.013321  1.000000 -0.089766 -0.020229 -0.001453   \n",
       "campaign  -0.008873 -0.029450 -0.089766  1.000000  0.068036  0.137433   \n",
       "pdays     -0.110719 -0.099897 -0.020229  0.068036  1.000000 -0.035643   \n",
       "previous   0.002707 -0.015200 -0.001453  0.137433 -0.035643  1.000000   \n",
       "response   0.077127  0.030070  0.342049 -0.094356 -0.173773  0.008075   \n",
       "\n",
       "           response  \n",
       "marital    0.049751  \n",
       "loan      -0.115212  \n",
       "housing   -0.320280  \n",
       "poutcome   0.425229  \n",
       "default   -0.028256  \n",
       "targeted  -0.092791  \n",
       "month     -0.009015  \n",
       "job        0.079660  \n",
       "contact   -0.007714  \n",
       "education  0.108581  \n",
       "age        0.072784  \n",
       "salary     0.038064  \n",
       "balance    0.077127  \n",
       "day        0.030070  \n",
       "duration   0.342049  \n",
       "campaign  -0.094356  \n",
       "pdays     -0.173773  \n",
       "previous   0.008075  \n",
       "response   1.000000  "
      ]
     },
     "execution_count": 22,
     "metadata": {},
     "output_type": "execute_result"
    }
   ],
   "source": [
    "df4.corr()"
   ]
  },
  {
   "cell_type": "markdown",
   "id": "b31a2c9e",
   "metadata": {},
   "source": [
    "### Predictive model 1: Logistic regression"
   ]
  },
  {
   "cell_type": "code",
   "execution_count": 23,
   "id": "715f9bc4",
   "metadata": {},
   "outputs": [],
   "source": [
    "from sklearn.model_selection import train_test_split\n",
    "from sklearn.model_selection import cross_val_score\n",
    "from sklearn.linear_model import LogisticRegression\n",
    "from sklearn.metrics import classification_report\n",
    "from sklearn.metrics import confusion_matrix\n",
    "from sklearn.metrics import f1_score\n",
    "np.random.seed(42)"
   ]
  },
  {
   "cell_type": "code",
   "execution_count": 24,
   "id": "007a0e76",
   "metadata": {},
   "outputs": [
    {
     "data": {
      "text/html": [
       "<div>\n",
       "<style scoped>\n",
       "    .dataframe tbody tr th:only-of-type {\n",
       "        vertical-align: middle;\n",
       "    }\n",
       "\n",
       "    .dataframe tbody tr th {\n",
       "        vertical-align: top;\n",
       "    }\n",
       "\n",
       "    .dataframe thead th {\n",
       "        text-align: right;\n",
       "    }\n",
       "</style>\n",
       "<table border=\"1\" class=\"dataframe\">\n",
       "  <thead>\n",
       "    <tr style=\"text-align: right;\">\n",
       "      <th></th>\n",
       "      <th>marital</th>\n",
       "      <th>loan</th>\n",
       "      <th>housing</th>\n",
       "      <th>poutcome</th>\n",
       "      <th>default</th>\n",
       "      <th>targeted</th>\n",
       "      <th>month</th>\n",
       "      <th>job</th>\n",
       "      <th>contact</th>\n",
       "      <th>education</th>\n",
       "      <th>age</th>\n",
       "      <th>salary</th>\n",
       "      <th>balance</th>\n",
       "      <th>day</th>\n",
       "      <th>duration</th>\n",
       "      <th>campaign</th>\n",
       "      <th>pdays</th>\n",
       "      <th>previous</th>\n",
       "    </tr>\n",
       "  </thead>\n",
       "  <tbody>\n",
       "    <tr>\n",
       "      <th>24060</th>\n",
       "      <td>1</td>\n",
       "      <td>0</td>\n",
       "      <td>0</td>\n",
       "      <td>0</td>\n",
       "      <td>0</td>\n",
       "      <td>1</td>\n",
       "      <td>10</td>\n",
       "      <td>0</td>\n",
       "      <td>1</td>\n",
       "      <td>2</td>\n",
       "      <td>33</td>\n",
       "      <td>50000</td>\n",
       "      <td>882</td>\n",
       "      <td>21</td>\n",
       "      <td>39</td>\n",
       "      <td>1</td>\n",
       "      <td>151</td>\n",
       "      <td>3</td>\n",
       "    </tr>\n",
       "    <tr>\n",
       "      <th>24062</th>\n",
       "      <td>2</td>\n",
       "      <td>1</td>\n",
       "      <td>1</td>\n",
       "      <td>1</td>\n",
       "      <td>0</td>\n",
       "      <td>1</td>\n",
       "      <td>10</td>\n",
       "      <td>0</td>\n",
       "      <td>1</td>\n",
       "      <td>1</td>\n",
       "      <td>42</td>\n",
       "      <td>50000</td>\n",
       "      <td>-247</td>\n",
       "      <td>21</td>\n",
       "      <td>519</td>\n",
       "      <td>1</td>\n",
       "      <td>166</td>\n",
       "      <td>1</td>\n",
       "    </tr>\n",
       "    <tr>\n",
       "      <th>24064</th>\n",
       "      <td>1</td>\n",
       "      <td>0</td>\n",
       "      <td>1</td>\n",
       "      <td>0</td>\n",
       "      <td>0</td>\n",
       "      <td>1</td>\n",
       "      <td>10</td>\n",
       "      <td>7</td>\n",
       "      <td>1</td>\n",
       "      <td>1</td>\n",
       "      <td>33</td>\n",
       "      <td>70000</td>\n",
       "      <td>3444</td>\n",
       "      <td>21</td>\n",
       "      <td>144</td>\n",
       "      <td>1</td>\n",
       "      <td>91</td>\n",
       "      <td>4</td>\n",
       "    </tr>\n",
       "    <tr>\n",
       "      <th>24072</th>\n",
       "      <td>1</td>\n",
       "      <td>0</td>\n",
       "      <td>1</td>\n",
       "      <td>1</td>\n",
       "      <td>0</td>\n",
       "      <td>1</td>\n",
       "      <td>10</td>\n",
       "      <td>4</td>\n",
       "      <td>1</td>\n",
       "      <td>2</td>\n",
       "      <td>36</td>\n",
       "      <td>100000</td>\n",
       "      <td>2415</td>\n",
       "      <td>22</td>\n",
       "      <td>73</td>\n",
       "      <td>1</td>\n",
       "      <td>86</td>\n",
       "      <td>4</td>\n",
       "    </tr>\n",
       "    <tr>\n",
       "      <th>24077</th>\n",
       "      <td>1</td>\n",
       "      <td>0</td>\n",
       "      <td>1</td>\n",
       "      <td>0</td>\n",
       "      <td>0</td>\n",
       "      <td>1</td>\n",
       "      <td>10</td>\n",
       "      <td>4</td>\n",
       "      <td>1</td>\n",
       "      <td>2</td>\n",
       "      <td>36</td>\n",
       "      <td>100000</td>\n",
       "      <td>0</td>\n",
       "      <td>23</td>\n",
       "      <td>140</td>\n",
       "      <td>1</td>\n",
       "      <td>143</td>\n",
       "      <td>3</td>\n",
       "    </tr>\n",
       "  </tbody>\n",
       "</table>\n",
       "</div>"
      ],
      "text/plain": [
       "       marital  loan  housing  poutcome  default  targeted  month  job  \\\n",
       "24060        1     0        0         0        0         1     10    0   \n",
       "24062        2     1        1         1        0         1     10    0   \n",
       "24064        1     0        1         0        0         1     10    7   \n",
       "24072        1     0        1         1        0         1     10    4   \n",
       "24077        1     0        1         0        0         1     10    4   \n",
       "\n",
       "       contact  education  age  salary  balance  day  duration  campaign  \\\n",
       "24060        1          2   33   50000      882   21        39         1   \n",
       "24062        1          1   42   50000     -247   21       519         1   \n",
       "24064        1          1   33   70000     3444   21       144         1   \n",
       "24072        1          2   36  100000     2415   22        73         1   \n",
       "24077        1          2   36  100000        0   23       140         1   \n",
       "\n",
       "       pdays  previous  \n",
       "24060    151         3  \n",
       "24062    166         1  \n",
       "24064     91         4  \n",
       "24072     86         4  \n",
       "24077    143         3  "
      ]
     },
     "execution_count": 24,
     "metadata": {},
     "output_type": "execute_result"
    }
   ],
   "source": [
    "X = df4.drop(\"response\", axis=1)\n",
    "X.head()"
   ]
  },
  {
   "cell_type": "code",
   "execution_count": 25,
   "id": "48e4cc05",
   "metadata": {},
   "outputs": [
    {
     "data": {
      "text/html": [
       "<div>\n",
       "<style scoped>\n",
       "    .dataframe tbody tr th:only-of-type {\n",
       "        vertical-align: middle;\n",
       "    }\n",
       "\n",
       "    .dataframe tbody tr th {\n",
       "        vertical-align: top;\n",
       "    }\n",
       "\n",
       "    .dataframe thead th {\n",
       "        text-align: right;\n",
       "    }\n",
       "</style>\n",
       "<table border=\"1\" class=\"dataframe\">\n",
       "  <thead>\n",
       "    <tr style=\"text-align: right;\">\n",
       "      <th></th>\n",
       "      <th>response</th>\n",
       "    </tr>\n",
       "  </thead>\n",
       "  <tbody>\n",
       "    <tr>\n",
       "      <th>24060</th>\n",
       "      <td>0</td>\n",
       "    </tr>\n",
       "    <tr>\n",
       "      <th>24062</th>\n",
       "      <td>1</td>\n",
       "    </tr>\n",
       "    <tr>\n",
       "      <th>24064</th>\n",
       "      <td>1</td>\n",
       "    </tr>\n",
       "    <tr>\n",
       "      <th>24072</th>\n",
       "      <td>0</td>\n",
       "    </tr>\n",
       "    <tr>\n",
       "      <th>24077</th>\n",
       "      <td>1</td>\n",
       "    </tr>\n",
       "  </tbody>\n",
       "</table>\n",
       "</div>"
      ],
      "text/plain": [
       "       response\n",
       "24060         0\n",
       "24062         1\n",
       "24064         1\n",
       "24072         0\n",
       "24077         1"
      ]
     },
     "execution_count": 25,
     "metadata": {},
     "output_type": "execute_result"
    }
   ],
   "source": [
    "y= df4[['response']]\n",
    "y.head()"
   ]
  },
  {
   "cell_type": "code",
   "execution_count": 26,
   "id": "efc0b133",
   "metadata": {},
   "outputs": [],
   "source": [
    "X_train,X_test,y_train,y_test = train_test_split(X,y,test_size = 0.2,random_state=42)"
   ]
  },
  {
   "cell_type": "code",
   "execution_count": 27,
   "id": "25d7e729",
   "metadata": {},
   "outputs": [],
   "source": [
    "lr = LogisticRegression()"
   ]
  },
  {
   "cell_type": "code",
   "execution_count": 28,
   "id": "1c26bce8",
   "metadata": {},
   "outputs": [
    {
     "data": {
      "text/plain": [
       "LogisticRegression()"
      ]
     },
     "execution_count": 28,
     "metadata": {},
     "output_type": "execute_result"
    }
   ],
   "source": [
    "lr.fit(X_train,y_train)"
   ]
  },
  {
   "cell_type": "code",
   "execution_count": 29,
   "id": "d0eadb5d",
   "metadata": {},
   "outputs": [
    {
     "data": {
      "text/plain": [
       "0.7783370562666023"
      ]
     },
     "execution_count": 29,
     "metadata": {},
     "output_type": "execute_result"
    }
   ],
   "source": [
    "cv_score= cross_val_score(lr,X_train,y_train, cv=5)\n",
    "np.mean(cv_score)"
   ]
  },
  {
   "cell_type": "code",
   "execution_count": 32,
   "id": "fda485bc",
   "metadata": {},
   "outputs": [
    {
     "name": "stdout",
     "output_type": "stream",
     "text": [
      "              precision    recall  f1-score   support\n",
      "\n",
      "           0       0.82      0.95      0.88      1290\n",
      "           1       0.56      0.23      0.32       351\n",
      "\n",
      "    accuracy                           0.80      1641\n",
      "   macro avg       0.69      0.59      0.60      1641\n",
      "weighted avg       0.76      0.80      0.76      1641\n",
      "\n"
     ]
    }
   ],
   "source": [
    "y_pred = lr.predict(X_test)\n",
    "print(classification_report(y_test, y_pred))"
   ]
  },
  {
   "cell_type": "code",
   "execution_count": 33,
   "id": "8bd70d01",
   "metadata": {},
   "outputs": [
    {
     "data": {
      "text/plain": [
       "array([[1228,  272],\n",
       "       [  62,   79]], dtype=int64)"
      ]
     },
     "execution_count": 33,
     "metadata": {},
     "output_type": "execute_result"
    }
   ],
   "source": [
    "confusion_matrix(y_pred,y_test)"
   ]
  },
  {
   "cell_type": "code",
   "execution_count": 34,
   "id": "af78a15c",
   "metadata": {},
   "outputs": [
    {
     "data": {
      "text/plain": [
       "0.32113821138211385"
      ]
     },
     "execution_count": 34,
     "metadata": {},
     "output_type": "execute_result"
    }
   ],
   "source": [
    "f1_score(y_pred,y_test)"
   ]
  },
  {
   "cell_type": "markdown",
   "id": "886acdba",
   "metadata": {},
   "source": [
    "### Predictive model 1: Random Forest Classifier"
   ]
  },
  {
   "cell_type": "code",
   "execution_count": 35,
   "id": "c325b5a0",
   "metadata": {},
   "outputs": [],
   "source": [
    "from sklearn.ensemble import RandomForestClassifier"
   ]
  },
  {
   "cell_type": "code",
   "execution_count": 36,
   "id": "c6ef147f",
   "metadata": {},
   "outputs": [],
   "source": [
    "rfc = RandomForestClassifier(max_depth=5, random_state=42,max_leaf_nodes=50)"
   ]
  },
  {
   "cell_type": "code",
   "execution_count": 37,
   "id": "6eeef384",
   "metadata": {},
   "outputs": [
    {
     "data": {
      "text/plain": [
       "RandomForestClassifier(max_depth=5, max_leaf_nodes=50, random_state=42)"
      ]
     },
     "execution_count": 37,
     "metadata": {},
     "output_type": "execute_result"
    }
   ],
   "source": [
    "rfc.fit(X_train,y_train)"
   ]
  },
  {
   "cell_type": "code",
   "execution_count": 38,
   "id": "828406ee",
   "metadata": {},
   "outputs": [
    {
     "data": {
      "text/plain": [
       "0.8394270243159401"
      ]
     },
     "execution_count": 38,
     "metadata": {},
     "output_type": "execute_result"
    }
   ],
   "source": [
    "cv1_score= cross_val_score(rfc,X_train,y_train, cv=5)\n",
    "np.mean(cv1_score)"
   ]
  },
  {
   "cell_type": "code",
   "execution_count": 39,
   "id": "117eaaaa",
   "metadata": {},
   "outputs": [],
   "source": [
    "y_pred1 = rfc.predict(X_test)"
   ]
  },
  {
   "cell_type": "code",
   "execution_count": 40,
   "id": "6777ac18",
   "metadata": {},
   "outputs": [
    {
     "name": "stdout",
     "output_type": "stream",
     "text": [
      "              precision    recall  f1-score   support\n",
      "\n",
      "           0       0.87      0.96      0.91      1290\n",
      "           1       0.75      0.46      0.57       351\n",
      "\n",
      "    accuracy                           0.85      1641\n",
      "   macro avg       0.81      0.71      0.74      1641\n",
      "weighted avg       0.84      0.85      0.84      1641\n",
      "\n"
     ]
    }
   ],
   "source": [
    "print(classification_report(y_test, y_pred1))"
   ]
  },
  {
   "cell_type": "code",
   "execution_count": 41,
   "id": "6d8fdd62",
   "metadata": {},
   "outputs": [
    {
     "data": {
      "text/plain": [
       "0.573943661971831"
      ]
     },
     "execution_count": 41,
     "metadata": {},
     "output_type": "execute_result"
    }
   ],
   "source": [
    "f1_score(y_test,y_pred1)"
   ]
  },
  {
   "cell_type": "code",
   "execution_count": 42,
   "id": "ccc4cb5d",
   "metadata": {},
   "outputs": [
    {
     "data": {
      "text/plain": [
       "array([[1236,   54],\n",
       "       [ 188,  163]], dtype=int64)"
      ]
     },
     "execution_count": 42,
     "metadata": {},
     "output_type": "execute_result"
    }
   ],
   "source": [
    "confusion_matrix(y_test,y_pred1)"
   ]
  },
  {
   "cell_type": "code",
   "execution_count": 44,
   "id": "bc80c851",
   "metadata": {},
   "outputs": [],
   "source": [
    "from sklearn.metrics import roc_auc_score"
   ]
  },
  {
   "cell_type": "code",
   "execution_count": 45,
   "id": "49381001",
   "metadata": {},
   "outputs": [
    {
     "data": {
      "text/plain": [
       "0.7112634996355927"
      ]
     },
     "execution_count": 45,
     "metadata": {},
     "output_type": "execute_result"
    }
   ],
   "source": [
    "roc_auc_score(y_test,y_pred1)"
   ]
  }
 ],
 "metadata": {
  "kernelspec": {
   "display_name": "Python 3 (ipykernel)",
   "language": "python",
   "name": "python3"
  },
  "language_info": {
   "codemirror_mode": {
    "name": "ipython",
    "version": 3
   },
   "file_extension": ".py",
   "mimetype": "text/x-python",
   "name": "python",
   "nbconvert_exporter": "python",
   "pygments_lexer": "ipython3",
   "version": "3.9.16"
  }
 },
 "nbformat": 4,
 "nbformat_minor": 5
}
